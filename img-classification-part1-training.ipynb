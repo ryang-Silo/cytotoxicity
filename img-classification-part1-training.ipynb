{
 "cells": [
  {
   "cell_type": "markdown",
   "metadata": {},
   "source": [
    "Copyright (c) Microsoft Corporation. All rights reserved.\n",
    "\n",
    "Licensed under the MIT License."
   ]
  },
  {
   "cell_type": "markdown",
   "metadata": {},
   "source": [
    "# Tutorial #1: Train an image classification model with Azure Machine Learning\n",
    "\n",
    "In this tutorial, you train a machine learning model on remote compute resources. You'll use the training and deployment workflow for Azure Machine Learning service (preview) in a Python Jupyter notebook.  You can then use the notebook as a template to train your own machine learning model with your own data. This tutorial is **part one of a two-part tutorial series**.  \n",
    "\n",
    "This tutorial trains a simple logistic regression using the [MNIST](https://docs.microsoft.com/azure/open-datasets/dataset-mnist) dataset and [scikit-learn](http://scikit-learn.org) with Azure Machine Learning.  MNIST is a popular dataset consisting of 70,000 grayscale images. Each image is a handwritten digit of 28x28 pixels, representing a number from 0 to 9. The goal is to create a multi-class classifier to identify the digit a given image represents. \n",
    "\n",
    "Learn how to:\n",
    "\n",
    "> * Set up your development environment\n",
    "> * Access and examine the data\n",
    "> * Train a simple logistic regression model on a remote cluster\n",
    "> * Review training results, find and register the best model\n",
    "\n",
    "You'll learn how to select a model and deploy it in [part two of this tutorial](deploy-models.ipynb) later. \n",
    "\n",
    "## Prerequisites\n",
    "\n",
    "See prerequisites in the [Azure Machine Learning documentation](https://docs.microsoft.com/azure/machine-learning/service/tutorial-train-models-with-aml#prerequisites).\n",
    "\n",
    "On the computer running this notebook, conda install matplotlib, numpy, scikit-learn=0.22.1"
   ]
  },
  {
   "cell_type": "markdown",
   "metadata": {},
   "source": [
    "## Set up your development environment\n",
    "\n",
    "All the setup for your development work can be accomplished in a Python notebook.  Setup includes:\n",
    "\n",
    "* Importing Python packages\n",
    "* Connecting to a workspace to enable communication between your local computer and remote resources\n",
    "* Creating an experiment to track all your runs\n",
    "* Creating a remote compute target to use for training\n",
    "\n",
    "### Import packages\n",
    "\n",
    "Import Python packages you need in this session. Also display the Azure Machine Learning SDK version."
   ]
  },
  {
   "cell_type": "code",
   "execution_count": 37,
   "metadata": {
    "tags": [
     "check version"
    ]
   },
   "outputs": [
    {
     "name": "stdout",
     "output_type": "stream",
     "text": [
      "Azure ML SDK Version:  1.56.0\n"
     ]
    }
   ],
   "source": [
    "%matplotlib inline\n",
    "import numpy as np\n",
    "import matplotlib.pyplot as plt\n",
    "\n",
    "import azureml.core\n",
    "from azureml.core import Workspace\n",
    "\n",
    "# check core SDK version number\n",
    "print(\"Azure ML SDK Version: \", azureml.core.VERSION)"
   ]
  },
  {
   "cell_type": "markdown",
   "metadata": {},
   "source": [
    "### Connect to workspace\n",
    "\n",
    "Create a workspace object from the existing workspace. `Workspace.from_config()` reads the file **config.json** and loads the details into an object named `ws`."
   ]
  },
  {
   "cell_type": "code",
   "execution_count": 38,
   "metadata": {
    "tags": [
     "load workspace"
    ]
   },
   "outputs": [
    {
     "name": "stdout",
     "output_type": "stream",
     "text": [
      "aml-silo-dev-003\twesteurope\trg-silo-dev-003\n"
     ]
    }
   ],
   "source": [
    "# load workspace configuration from the config.json file in the current folder.\n",
    "ws = Workspace.from_config()\n",
    "print(ws.name, ws.location, ws.resource_group, sep='\\t')"
   ]
  },
  {
   "cell_type": "markdown",
   "metadata": {},
   "source": [
    "### Create experiment\n",
    "\n",
    "Create an experiment to track the runs in your workspace. A workspace can have muliple experiments. "
   ]
  },
  {
   "cell_type": "code",
   "execution_count": 39,
   "metadata": {
    "tags": [
     "create experiment"
    ]
   },
   "outputs": [],
   "source": [
    "experiment_name = 'cyto4try'\n",
    "\n",
    "from azureml.core import Experiment\n",
    "exp = Experiment(workspace=ws, name=experiment_name)"
   ]
  },
  {
   "cell_type": "code",
   "execution_count": 40,
   "metadata": {},
   "outputs": [],
   "source": [
    "import os\n",
    "# os.environ.get(\"AML_COMPUTE_CLUSTER_NAME\", \"gpu-cluster\")"
   ]
  },
  {
   "cell_type": "code",
   "execution_count": 41,
   "metadata": {},
   "outputs": [
    {
     "data": {
      "text/plain": [
       "environ{'HBI_WORKSPACE': 'false',\n",
       "        'JUPYTER_SERVER_ROOT': '/mnt/batch/tasks/shared/LS_root/mounts/clusters/cytox/code',\n",
       "        'USER': 'azureuser',\n",
       "        'MKL_THREADING_LAYER': 'GNU',\n",
       "        'CI_WORKSPACE': 'aml-silo-dev-003',\n",
       "        'SHLVL': '2',\n",
       "        'LD_LIBRARY_PATH': '/anaconda/envs/azureml_py38_PT_TF/lib/',\n",
       "        'HOME': '/home/azureuser',\n",
       "        'CONDA_SHLVL': '2',\n",
       "        'OLDPWD': '/home/azureuser/.vscode-server/bin/dc96b837cf6bb4af9cd736aa3af08cf8279f7685',\n",
       "        'OBO_ENDPOINT': 'http://127.0.0.1:46808/OBO/token',\n",
       "        'CI_LOCAL_UBUNTU_USER': 'azureuser',\n",
       "        'AZURE_EXTENSION_DIR': '/opt/az/extensions',\n",
       "        '_CE_M': '',\n",
       "        'PYXTERM_DIMENSIONS': '80x25',\n",
       "        'DEFAULT_IDENTITY_CLIENT_ID': '37c18f62-4303-4624-9b35-de6d658c0197',\n",
       "        'LOGNAME': 'azureuser',\n",
       "        'JOURNAL_STREAM': '8:59456',\n",
       "        '_': '/anaconda/envs/azureml_py38_PT_TF/bin/python',\n",
       "        'COLUMNS': '1000',\n",
       "        'TERM': 'xterm-color',\n",
       "        'AML_CloudName': 'AzureCloud',\n",
       "        '_CE_CONDA': '',\n",
       "        'PATH': '/anaconda/envs/azureml_py38/bin/:/anaconda/envs/azureml_py38_PT_TF/bin:/home/azureuser/.vscode-server/bin/dc96b837cf6bb4af9cd736aa3af08cf8279f7685/bin/remote-cli:/opt/intel/compilers_and_libraries_2018.3.222/linux/mpi/intel64/bin:/home/azureuser/.vscode-server/bin/dc96b837cf6bb4af9cd736aa3af08cf8279f7685/bin:/anaconda/condabin:/opt/intel/compilers_and_libraries_2018.3.222/linux/mpi/intel64/bin:/usr/local/sbin:/usr/local/bin:/usr/sbin:/usr/bin:/sbin:/bin:/usr/games:/usr/local/games:/snap/bin:/home/azureuser/.dotnet/tools:/home/azureuser/.dotnet/tools',\n",
       "        'VSCODE_AGENT_FOLDER': '/home/azureuser/.vscode-server',\n",
       "        'INVOCATION_ID': 'a11f7a894ba549caa3d1f35d6074fdd6',\n",
       "        'APPSETTING_WEBSITE_SITE_NAME': 'AMLComputeInstance',\n",
       "        'LANG': 'C.UTF-8',\n",
       "        'MSI_ENDPOINT': 'http://127.0.0.1:46808/MSI/auth',\n",
       "        'MSI_SECRET': 'wbksEaoXn4rSTJl9ea9NcDUqRpk8pRY1',\n",
       "        'CONDA_PYTHON_EXE': '/anaconda/bin/python',\n",
       "        'SHELL': '/bin/bash',\n",
       "        'NODE_PATH': '/usr/lib/node_modules',\n",
       "        'ENABLE_MLFLOW_AUTOLOG': 'false',\n",
       "        'MLFLOW_TRACKING_URI': 'azureml://westeurope.api.azureml.ms/mlflow/v1.0/subscriptions/25130c3f-778b-4637-bfb8-3b1b885b45e7/resourceGroups/rg-silo-dev-003/providers/Microsoft.MachineLearningServices/workspaces/aml-silo-dev-003',\n",
       "        'CLASSPATH': '/opt/intel/compilers_and_libraries_2018.3.222/linux/mpi/intel64/lib/mpi.jar:/opt/intel/compilers_and_libraries_2018.3.222/linux/mpi/intel64/lib/mpi.jar',\n",
       "        'PWD': '/mnt/batch/tasks/shared/LS_root/mounts/clusters/cytox/code',\n",
       "        'CONDA_EXE': '/anaconda/bin/conda',\n",
       "        'XDG_DATA_DIRS': '/usr/local/share:/usr/share:/var/lib/snapd/desktop',\n",
       "        'I_MPI_ROOT': '/opt/intel/compilers_and_libraries_2018.3.222/linux/mpi',\n",
       "        'LINES': '1000',\n",
       "        'SGX_AESM_ADDR': '1',\n",
       "        'CI_NAME': 'cytox',\n",
       "        'CI_RESOURCE_GROUP': 'rg-silo-dev-003',\n",
       "        'MANPATH': '/opt/intel/compilers_and_libraries_2018.3.222/linux/mpi/man:/opt/intel/compilers_and_libraries_2018.3.222/linux/mpi/man:/usr/local/man:/usr/local/share/man:/usr/share/man',\n",
       "        'JUPYTER_SERVER_URL': 'http://localhost:8888/',\n",
       "        'VSCODE_HANDLES_SIGPIPE': 'true',\n",
       "        'VSCODE_AMD_ENTRYPOINT': 'vs/workbench/api/node/extensionHostProcess',\n",
       "        'VSCODE_HANDLES_UNCAUGHT_ERRORS': 'true',\n",
       "        'VSCODE_NLS_CONFIG': '{\"locale\":\"en\",\"osLocale\":\"en\",\"availableLanguages\":{}}',\n",
       "        'BROWSER': '/home/azureuser/.vscode-server/bin/dc96b837cf6bb4af9cd736aa3af08cf8279f7685/bin/helpers/browser.sh',\n",
       "        'VSCODE_CWD': '/mnt/batch/tasks/shared/LS_root/mounts/clusters/cytox/code',\n",
       "        'ELECTRON_RUN_AS_NODE': '1',\n",
       "        'VSCODE_IPC_HOOK_CLI': '/tmp/vscode-ipc-e2bf3f8f-1c3f-45f8-aa3e-7cb96be0d6a1.sock',\n",
       "        'JUPYTER_CONFIG_DATA': '/home/azureuser/.vscode-server/extensions/ms-toolsai.vscode-ai-remote-0.48.0/jupyterConfigData.json',\n",
       "        'PYTHONUNBUFFERED': '1',\n",
       "        'CONDA_ROOT': '/anaconda',\n",
       "        'CONDA_PREFIX': '/anaconda/envs/azureml_py38_PT_TF',\n",
       "        'CONDA_PROMPT_MODIFIER': '(azureml_py38_PT_TF) ',\n",
       "        'PYTHONIOENCODING': 'utf-8',\n",
       "        'CONDA_DEFAULT_ENV': 'azureml_py38_PT_TF',\n",
       "        'CONDA_PREFIX_1': '/anaconda',\n",
       "        'PYDEVD_IPYTHON_COMPATIBLE_DEBUGGING': '1',\n",
       "        'PYTHON_FROZEN_MODULES': 'on',\n",
       "        'PYDEVD_USE_FRAME_EVAL': 'NO',\n",
       "        'CLICOLOR': '1',\n",
       "        'PAGER': 'cat',\n",
       "        'GIT_PAGER': 'cat',\n",
       "        'MPLBACKEND': 'module://matplotlib_inline.backend_inline'}"
      ]
     },
     "execution_count": 41,
     "metadata": {},
     "output_type": "execute_result"
    }
   ],
   "source": [
    "os.environ"
   ]
  },
  {
   "cell_type": "code",
   "execution_count": 42,
   "metadata": {},
   "outputs": [
    {
     "data": {
      "text/html": [
       "<table style=\"width:100%\"><tr><th>Name</th><th>Workspace</th><th>State</th><th>Location</th><th>VmSize</th><th>Application URI</th><th>SSH</th><th>Docs</th></tr><tr><td><a href=\"https://ml.azure.com/compute/cytox/details?wsid=/subscriptions/25130c3f-778b-4637-bfb8-3b1b885b45e7/resourcegroups/rg-silo-dev-003/workspaces/aml-silo-dev-003\" target=\"_blank\" rel=\"noopener\">cytox</a></td><td><a href=\"https://ml.azure.com?wsid=/subscriptions/25130c3f-778b-4637-bfb8-3b1b885b45e7/resourcegroups/rg-silo-dev-003/workspaces/aml-silo-dev-003&amp;tid=423d823d-bd94-4a87-b831-357bda79da31\" target=\"_blank\" rel=\"noopener\">aml-silo-dev-003</a></td><td>Running</td><td>westeurope</td><td>Standard_NC4as_T4_v3</td><td><a href=\"https://cytox.westeurope.instances.azureml.ms/tree/\" target=\"_blank\" rel=\"noopener\">Jupyter</a>  <a href=\"https://cytox.westeurope.instances.azureml.ms/lab\" target=\"_blank\" rel=\"noopener\">JupyterLab</a></td><td>azureuser@51.145.150.245 -p 50000</td><td><a href=\"https://docs.microsoft.com/en-us/python/api/azureml-core/azureml.core.compute.computeinstance.ComputeInstance?view=azure-ml-py\" target=\"_blank\" rel=\"noopener\">Doc</a></td></tr></table>"
      ],
      "text/plain": [
       "{\n",
       "  \"id\": \"/subscriptions/25130c3f-778b-4637-bfb8-3b1b885b45e7/resourceGroups/rg-silo-dev-003/providers/Microsoft.MachineLearningServices/workspaces/aml-silo-dev-003/computes/cytox\",\n",
       "  \"name\": \"cytox\",\n",
       "  \"location\": \"westeurope\",\n",
       "  \"tags\": {\n",
       "    \"cytox-vm\": \"T4\"\n",
       "  },\n",
       "  \"properties\": {\n",
       "    \"description\": null,\n",
       "    \"computeType\": \"ComputeInstance\",\n",
       "    \"computeLocation\": \"westeurope\",\n",
       "    \"resourceId\": null,\n",
       "    \"provisioningErrors\": null,\n",
       "    \"provisioningState\": \"Succeeded\",\n",
       "    \"properties\": {\n",
       "      \"vmSize\": \"Standard_NC4as_T4_v3\",\n",
       "      \"applications\": [\n",
       "        {\n",
       "          \"displayName\": \"Jupyter\",\n",
       "          \"endpointUri\": \"https://cytox.westeurope.instances.azureml.ms/tree/\"\n",
       "        },\n",
       "        {\n",
       "          \"displayName\": \"Jupyter Lab\",\n",
       "          \"endpointUri\": \"https://cytox.westeurope.instances.azureml.ms/lab\"\n",
       "        }\n",
       "      ],\n",
       "      \"connectivityEndpoints\": {\n",
       "        \"publicIpAddress\": \"51.145.150.245\",\n",
       "        \"privateIpAddress\": \"10.0.0.4\"\n",
       "      },\n",
       "      \"sshSettings\": {\n",
       "        \"sshPublicAccess\": \"Enabled\",\n",
       "        \"adminUserName\": \"azureuser\",\n",
       "        \"adminPublicKey\": \"ssh-rsa AAAAB3NzaC1yc2EAAAADAQABAAABgQDVs+ajNU85uLG7eHqQi3bcdXb6FRQSZnfRKzR/8I7I1wj1yCkAasCocTtZub9p+g+MgVnGWG8MwOISudqzd5eANR6QtTa27KNB+lJbvoPgWm2A/F1xvFb1dPtUJk3kiLbZqfrw0eFCheTaP8NeBfoVxSReZB9q/KkWt5ConbUYuzQD7JVdFY6kT0X4+3D/DJHYEHwlZjr6xiyc6RDs7jNbAhqi6aMp07TSnNiMJJNBXSF0Rg0D1sMnwuM9mTuLeZFodLPZ8QXQm5Vo54Ham059cKoBRhOOcP3VgnGrXVunFLzX276r/iZZdLWQg7ntBdhUGyyeTYOdRoiliv5flB661FI5hOZYBys76+kA329bgxkGxtHIsTBZU4fx8EihGQLqn9Sxr2DouO9QR0ZidXylVeot193MNiEkd9LsYQ3GIJt71Bsb30M4dW2XL3j7T7dg3DD+n5MP6t0pqVAIYG9OsMBUTgvMIixpOAQDQgv8nG8dkCMegV/ySVaVqJMwCZU= generated-by-azure\",\n",
       "        \"sshPort\": 50000\n",
       "      },\n",
       "      \"personalComputeInstanceSettings\": null,\n",
       "      \"subnet\": {\n",
       "        \"id\": null\n",
       "      },\n",
       "      \"errors\": []\n",
       "    },\n",
       "    \"status\": {\n",
       "      \"errors\": [],\n",
       "      \"creationTime\": \"2024-04-25T19:43:17.993594+00:00\",\n",
       "      \"createdBy\": {\n",
       "        \"userObjectId\": \"53c69eb9-48cf-4170-8cde-6bdf74989107\",\n",
       "        \"userTenantId\": \"423d823d-bd94-4a87-b831-357bda79da31\",\n",
       "        \"userName\": null\n",
       "      },\n",
       "      \"modifiedTime\": \"2024-05-09T19:02:23.165386+00:00\",\n",
       "      \"state\": \"Running\",\n",
       "      \"vmSize\": \"Standard_NC4as_T4_v3\"\n",
       "    }\n",
       "  }\n",
       "}"
      ]
     },
     "execution_count": 42,
     "metadata": {},
     "output_type": "execute_result"
    }
   ],
   "source": [
    "ws.compute_targets['cytox']"
   ]
  },
  {
   "cell_type": "markdown",
   "metadata": {},
   "source": [
    "### Create or Attach existing compute resource\n",
    "\n",
    "> Note that if you have an AzureML Data Scientist role, you will not have permission to create compute resources. Talk to your workspace or IT admin to create the compute targets described in this section, if they do not already exist.\n",
    "\n",
    "By using Azure Machine Learning Compute, a managed service, data scientists can train machine learning models on clusters of Azure virtual machines. Examples include VMs with GPU support. In this tutorial, you create Azure Machine Learning Compute as your training environment. You will submit Python code to run on this VM later in the tutorial. \n",
    "The code below creates the compute clusters for you if they don't already exist in your workspace.\n",
    "\n",
    "**Creation of compute takes approximately 5 minutes.** If the AmlCompute with that name is already in your workspace the code will skip the creation process."
   ]
  },
  {
   "cell_type": "code",
   "execution_count": 43,
   "metadata": {
    "tags": [
     "create mlc",
     "amlcompute"
    ]
   },
   "outputs": [
    {
     "name": "stdout",
     "output_type": "stream",
     "text": [
      "found compute target: cytox\n"
     ]
    }
   ],
   "source": [
    "from azureml.core.compute import AmlCompute, ComputeInstance\n",
    "from azureml.core.compute import ComputeTarget\n",
    "import os\n",
    "\n",
    "# choose a name for your cluster\n",
    "compute_name = 'cytox' #os.environ.get(\"AML_COMPUTE_CLUSTER_NAME\", \"gpu-cluster\")\n",
    "compute_min_nodes = os.environ.get(\"AML_COMPUTE_CLUSTER_MIN_NODES\", 0)\n",
    "compute_max_nodes = os.environ.get(\"AML_COMPUTE_CLUSTER_MAX_NODES\", 2)\n",
    "\n",
    "# This example uses CPU VM. For using GPU VM, set SKU to Standard_NC6s_v3\n",
    "vm_size = os.environ.get(\"AML_COMPUTE_CLUSTER_SKU\", \"Standard_NC4as_T4_v3\")\n",
    "\n",
    "\n",
    "if compute_name in ws.compute_targets:\n",
    "    compute_target = ws.compute_targets[compute_name]\n",
    "    if compute_target and type(compute_target) is ComputeInstance:\n",
    "        print(\"found compute target: \" + compute_name)\n",
    "# else:\n",
    "#     print(\"creating new compute target...\")\n",
    "#     provisioning_config = AmlCompute.provisioning_configuration(vm_size = vm_size,\n",
    "#                                                                 min_nodes = compute_min_nodes, \n",
    "#                                                                 max_nodes = compute_max_nodes)\n",
    "\n",
    "#     # create the cluster\n",
    "#     compute_target = ComputeTarget.create(ws, compute_name, provisioning_config)\n",
    "    \n",
    "#     # can poll for a minimum number of nodes and for a specific timeout. \n",
    "#     # if no min node count is provided it will use the scale settings for the cluster\n",
    "#     compute_target.wait_for_completion(show_output=True, min_node_count=None, timeout_in_minutes=20)\n",
    "    \n",
    "#      # For a more detailed view of current AmlCompute status, use get_status()\n",
    "#     print(compute_target.get_status().serialize())"
   ]
  },
  {
   "cell_type": "code",
   "execution_count": 44,
   "metadata": {},
   "outputs": [
    {
     "data": {
      "text/plain": [
       "{'cytox': {\n",
       "   \"id\": \"/subscriptions/25130c3f-778b-4637-bfb8-3b1b885b45e7/resourceGroups/rg-silo-dev-003/providers/Microsoft.MachineLearningServices/workspaces/aml-silo-dev-003/computes/cytox\",\n",
       "   \"name\": \"cytox\",\n",
       "   \"location\": \"westeurope\",\n",
       "   \"tags\": {\n",
       "     \"cytox-vm\": \"T4\"\n",
       "   },\n",
       "   \"properties\": {\n",
       "     \"description\": null,\n",
       "     \"computeType\": \"ComputeInstance\",\n",
       "     \"computeLocation\": \"westeurope\",\n",
       "     \"resourceId\": null,\n",
       "     \"provisioningErrors\": null,\n",
       "     \"provisioningState\": \"Succeeded\",\n",
       "     \"properties\": {\n",
       "       \"vmSize\": \"Standard_NC4as_T4_v3\",\n",
       "       \"applications\": [\n",
       "         {\n",
       "           \"displayName\": \"Jupyter\",\n",
       "           \"endpointUri\": \"https://cytox.westeurope.instances.azureml.ms/tree/\"\n",
       "         },\n",
       "         {\n",
       "           \"displayName\": \"Jupyter Lab\",\n",
       "           \"endpointUri\": \"https://cytox.westeurope.instances.azureml.ms/lab\"\n",
       "         }\n",
       "       ],\n",
       "       \"connectivityEndpoints\": {\n",
       "         \"publicIpAddress\": \"51.145.150.245\",\n",
       "         \"privateIpAddress\": \"10.0.0.4\"\n",
       "       },\n",
       "       \"sshSettings\": {\n",
       "         \"sshPublicAccess\": \"Enabled\",\n",
       "         \"adminUserName\": \"azureuser\",\n",
       "         \"adminPublicKey\": \"ssh-rsa AAAAB3NzaC1yc2EAAAADAQABAAABgQDVs+ajNU85uLG7eHqQi3bcdXb6FRQSZnfRKzR/8I7I1wj1yCkAasCocTtZub9p+g+MgVnGWG8MwOISudqzd5eANR6QtTa27KNB+lJbvoPgWm2A/F1xvFb1dPtUJk3kiLbZqfrw0eFCheTaP8NeBfoVxSReZB9q/KkWt5ConbUYuzQD7JVdFY6kT0X4+3D/DJHYEHwlZjr6xiyc6RDs7jNbAhqi6aMp07TSnNiMJJNBXSF0Rg0D1sMnwuM9mTuLeZFodLPZ8QXQm5Vo54Ham059cKoBRhOOcP3VgnGrXVunFLzX276r/iZZdLWQg7ntBdhUGyyeTYOdRoiliv5flB661FI5hOZYBys76+kA329bgxkGxtHIsTBZU4fx8EihGQLqn9Sxr2DouO9QR0ZidXylVeot193MNiEkd9LsYQ3GIJt71Bsb30M4dW2XL3j7T7dg3DD+n5MP6t0pqVAIYG9OsMBUTgvMIixpOAQDQgv8nG8dkCMegV/ySVaVqJMwCZU= generated-by-azure\",\n",
       "         \"sshPort\": 50000\n",
       "       },\n",
       "       \"personalComputeInstanceSettings\": null,\n",
       "       \"subnet\": {\n",
       "         \"id\": null\n",
       "       },\n",
       "       \"errors\": []\n",
       "     },\n",
       "     \"status\": {\n",
       "       \"errors\": [],\n",
       "       \"creationTime\": \"2024-04-25T19:43:17.993594+00:00\",\n",
       "       \"createdBy\": {\n",
       "         \"userObjectId\": \"53c69eb9-48cf-4170-8cde-6bdf74989107\",\n",
       "         \"userTenantId\": \"423d823d-bd94-4a87-b831-357bda79da31\",\n",
       "         \"userName\": null\n",
       "       },\n",
       "       \"modifiedTime\": \"2024-05-09T19:02:23.165386+00:00\",\n",
       "       \"state\": \"Running\",\n",
       "       \"vmSize\": \"Standard_NC4as_T4_v3\"\n",
       "     }\n",
       "   }\n",
       " }}"
      ]
     },
     "execution_count": 44,
     "metadata": {},
     "output_type": "execute_result"
    }
   ],
   "source": [
    "ws.compute_targets"
   ]
  },
  {
   "cell_type": "markdown",
   "metadata": {},
   "source": [
    "You now have the necessary packages and compute resources to train a model in the cloud. \n",
    "\n",
    "## Explore data\n",
    "\n",
    "Before you train a model, you need to understand the data that you are using to train it. In this section you learn how to:\n",
    "\n",
    "* Download the MNIST dataset\n",
    "* Display some sample images\n",
    "\n",
    "### Download the MNIST dataset\n",
    "\n",
    "Use Azure Open Datasets to get the raw MNIST data files. [Azure Open Datasets](https://docs.microsoft.com/azure/open-datasets/overview-what-are-open-datasets) are curated public datasets that you can use to add scenario-specific features to machine learning solutions for more accurate models. Each dataset has a corrseponding class, `MNIST` in this case, to retrieve the data in different ways.\n",
    "\n",
    "This code retrieves the data as a `FileDataset` object, which is a subclass of `Dataset`. A `FileDataset` references single or multiple files of any format in your datastores or public urls. The class provides you with the ability to download or mount the files to your compute by creating a reference to the data source location. Additionally, you register the Dataset to your workspace for easy retrieval during training.\n",
    "\n",
    "Follow the [how-to](https://aka.ms/azureml/howto/createdatasets) to learn more about Datasets and their usage in the SDK."
   ]
  },
  {
   "cell_type": "code",
   "execution_count": 45,
   "metadata": {},
   "outputs": [
    {
     "data": {
      "text/plain": [
       "'/mnt/batch/tasks/shared/LS_root/mounts/clusters/cytox/code/workspace/cytotoxicity'"
      ]
     },
     "execution_count": 45,
     "metadata": {},
     "output_type": "execute_result"
    }
   ],
   "source": [
    "os.getcwd()"
   ]
  },
  {
   "cell_type": "code",
   "execution_count": 46,
   "metadata": {},
   "outputs": [
    {
     "name": "stdout",
     "output_type": "stream",
     "text": [
      "workspaceblobcompound AzureBlob cytotoxstorageaccount compounds-images\n"
     ]
    }
   ],
   "source": [
    "from azureml.core import Dataset\n",
    "# from azureml.opendatasets import MNIST\n",
    "\n",
    "# data_folder = './data/cytoData_v2'\n",
    "ws.set_default_datastore('workspaceblobcompound')\n",
    "ds = ws.get_default_datastore()\n",
    "print(ds.name, ds.datastore_type, ds.account_name, ds.container_name)\n",
    "ds_paths = [(ds, 'reference_dataset_compounds_v2/')]\n",
    "dataset = Dataset.File.from_files(path = ds_paths)"
   ]
  },
  {
   "cell_type": "code",
   "execution_count": 47,
   "metadata": {},
   "outputs": [
    {
     "data": {
      "text/plain": [
       "{\n",
       "  \"definition\": \"EnginelessDataflow:\\n---\\ntype: mltable\\npaths:\\n  - pattern: \\\"azureml://subscriptions/25130c3f-778b-4637-bfb8-3b1b885b45e7/resourcegroups/rg-silo-dev-003/workspaces/aml-silo-dev-003/datastores/workspaceblobcompound/paths/reference_dataset_compounds_v2/\\\"\\nmetadata:\\n  infer_column_types: \\\"False\\\"\\n\"\n",
       "}"
      ]
     },
     "execution_count": 47,
     "metadata": {},
     "output_type": "execute_result"
    }
   ],
   "source": [
    "dataset"
   ]
  },
  {
   "cell_type": "code",
   "execution_count": 48,
   "metadata": {},
   "outputs": [],
   "source": [
    "# mounted_path = data_folder\n",
    "# mount_context = dataset.mount(mounted_path)\n",
    "# # dataset.download(target_path=mounted_path, overwrite=True)\n",
    "# mount_context.start()\n",
    "\n",
    "# import os\n",
    "# print(os.listdir(mounted_path))\n",
    "# print (mounted_path)"
   ]
  },
  {
   "cell_type": "markdown",
   "metadata": {
    "tags": []
   },
   "source": [
    "### Display some sample images\n",
    "\n",
    "Load the compressed files into `numpy` arrays. Then use `matplotlib` to plot 30 random images from the dataset with their labels above them. Note this step requires a `load_data` function that's included in an `utils.py` file. This file is included in the sample folder. Please make sure it is placed in the same folder as this notebook. The `load_data` function simply parses the compresse files into numpy arrays."
   ]
  },
  {
   "cell_type": "code",
   "execution_count": 49,
   "metadata": {},
   "outputs": [],
   "source": [
    "# from PIL import Image\n",
    "# compound_list = os.listdir(data_folder)\n",
    "# imagelist = [os.path.join(data_folder, compound_list[10], f) for f in os.listdir(os.path.join(data_folder, compound_list[10]))]\n",
    "# len(imagelist)"
   ]
  },
  {
   "cell_type": "code",
   "execution_count": 50,
   "metadata": {},
   "outputs": [],
   "source": [
    "# Image.open(imagelist[10])"
   ]
  },
  {
   "cell_type": "markdown",
   "metadata": {},
   "source": [
    "## Train on a remote cluster\n",
    "\n",
    "For this task, you submit the job to run on the remote training cluster you set up earlier.  To submit a job you:\n",
    "* Create a directory\n",
    "* Create a training script\n",
    "* Create a script run configuration\n",
    "* Submit the job \n",
    "\n",
    "### Create a directory\n",
    "\n",
    "Create a directory to deliver the necessary code from your computer to the remote resource."
   ]
  },
  {
   "cell_type": "code",
   "execution_count": 51,
   "metadata": {},
   "outputs": [],
   "source": [
    "import os\n",
    "script_folder = os.path.join(os.getcwd(), experiment_name)\n",
    "os.makedirs(script_folder, exist_ok=True)"
   ]
  },
  {
   "cell_type": "code",
   "execution_count": 52,
   "metadata": {},
   "outputs": [
    {
     "data": {
      "text/plain": [
       "'/mnt/batch/tasks/shared/LS_root/mounts/clusters/cytox/code/workspace/cytotoxicity'"
      ]
     },
     "execution_count": 52,
     "metadata": {},
     "output_type": "execute_result"
    }
   ],
   "source": [
    "os.getcwd()"
   ]
  },
  {
   "cell_type": "markdown",
   "metadata": {},
   "source": [
    "### Create a training script\n",
    "\n",
    "To submit the job to the cluster, first create a training script. Run the following code to create the training script called `train.py` in the directory you just created. "
   ]
  },
  {
   "cell_type": "markdown",
   "metadata": {},
   "source": [
    "Notice how the script gets data and saves models:\n",
    "\n",
    "+ The training script reads an argument to find the directory containing the data.  When you submit the job later, you point to the dataset for this argument:\n",
    "`parser.add_argument('--data-folder', type=str, dest='data_folder', help='data directory mounting point')`"
   ]
  },
  {
   "cell_type": "markdown",
   "metadata": {},
   "source": [
    "\n",
    "+ The training script saves your model into a directory named outputs. <br/>\n",
    "`joblib.dump(value=clf, filename='outputs/sklearn_mnist_model.pkl')`<br/>\n",
    "Anything written in this directory is automatically uploaded into your workspace. You'll access your model from this directory later in the tutorial."
   ]
  },
  {
   "cell_type": "markdown",
   "metadata": {},
   "source": [
    "The file `utils.py` is referenced from the training script to load the dataset correctly.  Copy this script into the script folder so that it can be accessed along with the training script on the remote resource."
   ]
  },
  {
   "cell_type": "code",
   "execution_count": 53,
   "metadata": {},
   "outputs": [
    {
     "data": {
      "text/plain": [
       "'/mnt/batch/tasks/shared/LS_root/mounts/clusters/cytox/code/workspace/cytotoxicity/cyto4try/train_test_folds'"
      ]
     },
     "execution_count": 53,
     "metadata": {},
     "output_type": "execute_result"
    },
    {
     "name": "stderr",
     "output_type": "stream",
     "text": [
      "Bad pipe message: %s [b'\\x058\\x9d\\xddIk\\xd9\\xa4\\xe6\\xb0\\xfdw\\xb6\\xec$\\xe8\\xe8p Do\\xab[\\x93\\x15\\x90\\xf8\\xd0\\xa5\\x9aR\\x96|(\\xda1i\\xf1\\xe2\\x05\\xb5(\\xed\\xd7s\\x11\\x9e\\xb8\\xd2\\xff\\xf0\\x00\\x08\\x13\\x02\\x13\\x03\\x13\\x01\\x00\\xff\\x01\\x00\\x00\\x8f\\x00\\x00\\x00\\x0e\\x00\\x0c\\x00\\x00\\t127.0.0.1\\x00\\x0b\\x00\\x04\\x03\\x00\\x01\\x02\\x00\\n\\x00\\x0c\\x00\\n\\x00\\x1d\\x00\\x17\\x00\\x1e\\x00\\x19\\x00\\x18\\x00#\\x00\\x00\\x00\\x16\\x00\\x00\\x00\\x17\\x00\\x00\\x00\\r\\x00\\x1e\\x00\\x1c\\x04\\x03\\x05\\x03\\x06\\x03\\x08\\x07\\x08\\x08\\x08\\t\\x08\\n\\x08\\x0b\\x08\\x04\\x08\\x05\\x08\\x06\\x04\\x01\\x05\\x01\\x06\\x01\\x00+\\x00', b'\\x03\\x04']\n",
      "Bad pipe message: %s [b\"\\xfedO3\\xd7{t8\\xb1\\xe0\\xc7H\\xfb\\x8d66Kc\\x00\\x00|\\xc0,\\xc00\\x00\\xa3\\x00\\x9f\\xcc\\xa9\\xcc\\xa8\\xcc\\xaa\\xc0\\xaf\\xc0\\xad\\xc0\\xa3\\xc0\\x9f\\xc0]\\xc0a\\xc0W\\xc0S\\xc0+\\xc0/\\x00\\xa2\\x00\\x9e\\xc0\\xae\\xc0\\xac\\xc0\\xa2\\xc0\\x9e\\xc0\\\\\\xc0`\\xc0V\\xc0R\\xc0$\\xc0(\\x00k\\x00j\\xc0#\\xc0'\\x00g\\x00@\\xc0\\n\\xc0\\x14\\x009\\x008\\xc0\\t\\xc0\\x13\\x003\\x002\\x00\\x9d\\xc0\\xa1\\xc0\\x9d\\xc0Q\\x00\\x9c\\xc0\\xa0\\xc0\\x9c\\xc0P\\x00=\\x00<\\x005\\x00/\\x00\\x9a\\x00\\x99\\xc0\\x07\\xc0\\x11\\x00\\x96\\x00\\x05\\x00\\xff\\x01\\x00\\x00j\\x00\\x00\\x00\\x0e\\x00\\x0c\\x00\\x00\\t127\"]\n",
      "Bad pipe message: %s [b\"\\xb6\\xbd\\x8e\\x93x\\xda;\\x8b~KJ\\xa7\\xc8\\xf93\\\\-W &#0\\xa9\\xd1\\x06X\\xad]s \\r\\xc65\\xa4\\x9a\\xd9\\x1b\\xb5A\\x8f\\x06\\x17\\xe7\\xd8x\\x1az\\x81\\xa6\\xba'\\x00\\x08\\x13\\x02\\x13\\x03\\x13\\x01\\x00\\xff\\x01\\x00\\x00\\x8f\\x00\\x00\\x00\\x0e\\x00\\x0c\\x00\\x00\\t127.0.0.1\\x00\\x0b\\x00\\x04\\x03\\x00\\x01\\x02\\x00\\n\\x00\\x0c\\x00\\n\\x00\\x1d\\x00\\x17\\x00\\x1e\\x00\\x19\\x00\"]\n",
      "Bad pipe message: %s [b\"\\xd8.'je,\\x02\\xe7e\\tw\\xa3\\xec\\\\\\x07\\x80\\xc3\\xd4\\x00\\x00\\xa6\\xc0,\\xc00\\x00\\xa3\\x00\\x9f\\xcc\\xa9\\xcc\\xa8\\xcc\\xaa\\xc0\\xaf\\xc0\\xad\\xc0\\xa3\\xc0\\x9f\\xc0]\\xc0a\\xc0W\\xc0S\\xc0+\\xc0/\\x00\\xa2\\x00\\x9e\\xc0\\xae\\xc0\\xac\\xc0\\xa2\\xc0\\x9e\\xc0\\\\\\xc0`\\xc0V\\xc0R\\xc0$\\xc0(\\x00k\\x00j\\xc0s\\xc0w\\x00\\xc4\\x00\\xc3\\xc0#\\xc0'\\x00g\\x00@\\xc0r\\xc0v\\x00\\xbe\\x00\\xbd\\xc0\\n\\xc0\\x14\\x009\\x008\\x00\\x88\\x00\\x87\\xc0\\t\\xc0\\x13\\x003\"]\n",
      "Bad pipe message: %s [b'.0.1\\x00\\x0b\\x00\\x04\\x03\\x00\\x01\\x02\\x00\\n\\x00\\x0c\\x00\\n\\x00\\x1d\\x00\\x17\\x00\\x1e\\x00\\x19\\x00\\x18\\x00#\\x00\\x00\\x00\\x16\\x00\\x00\\x00\\x17\\x00\\x00\\x00\\r\\x000\\x00']\n",
      "Bad pipe message: %s [b'#\\x00\\x00\\x00\\x16\\x00\\x00\\x00\\x17\\x00\\x00\\x00\\r\\x00\\x1e\\x00\\x1c\\x04\\x03\\x05\\x03\\x06\\x03']\n",
      "Bad pipe message: %s [b'\\x03\\x05\\x03\\x06\\x03\\x08\\x07\\x08\\x08\\x08\\t\\x08\\n\\x08\\x0b\\x08\\x04\\x08\\x05\\x08\\x06\\x04\\x01\\x05\\x01\\x06\\x01\\x03\\x03\\x02\\x03\\x03\\x01\\x02\\x01\\x03\\x02\\x02\\x02\\x04\\x02\\x05\\x02\\x06\\x02']\n",
      "Bad pipe message: %s [b'\\x08\\x08\\x08\\t\\x08\\n\\x08', b'\\x04\\x08\\x05\\x08\\x06\\x04\\x01\\x05\\x01\\x06']\n",
      "Bad pipe message: %s [b'']\n",
      "Bad pipe message: %s [b'\\x03\\x02\\x03\\x04\\x00-\\x00\\x02\\x01\\x01\\x003\\x00&\\x00$\\x00\\x1d\\x00 S\\xf2\\xc0\\xb0\\x1eA\\xff\\x86J{\\xdb\\x1cX(S\\xf8\\x81;\\xec5\\xe0\\x8c']\n",
      "Bad pipe message: %s [b\"'!\\x87\\xa4\\xc9\\xee\\xef\\xe0?\\xbc@\\xadO@\\xa1uP\\xbd\\x00\\x00\\xa2\\xc0\\x14\\xc0\"]\n",
      "Bad pipe message: %s [b'9\\x008\\x007\\x006\\x00\\x88']\n",
      "Bad pipe message: %s [b'\\xcdV\\xab\\x85\\xb8\\x18[\\xf3J\\x89\\x188\\xf8^\\xb6\\x11\\x91\\xed\\x00\\x00\\xa2\\xc0\\x14\\xc0\\n\\x009\\x008\\x007\\x006\\x00\\x88\\x00\\x87\\x00\\x86\\x00\\x85\\xc0\\x19\\x00:\\x00\\x89\\xc0\\x0f\\xc0\\x05\\x005\\x00\\x84\\xc0\\x13\\xc0\\t\\x003\\x002\\x001\\x000\\x00\\x9a\\x00\\x99\\x00\\x98\\x00\\x97\\x00E\\x00D\\x00C\\x00B\\xc0\\x18\\x00', b'\\x9b\\x00F\\xc0\\x0e\\xc0\\x04\\x00/\\x00\\x96\\x00A\\x00\\x07\\xc0\\x11\\xc0\\x07\\xc0\\x16\\x00\\x18\\xc0\\x0c\\xc0\\x02\\x00\\x05\\x00\\x04\\xc0\\x12\\xc0\\x08\\x00\\x16\\x00\\x13\\x00\\x10\\x00\\r\\xc0\\x17\\x00\\x1b\\xc0\\r\\xc0\\x03']\n",
      "Bad pipe message: %s [b'\\x0b\\x1c\\xeb\\xc3\\x9bG,\\x8d\\xfb\\xa3\\x0c\\n\\xbe\\xd3hK\\xef\\x00\\x00\\x00\\xa2\\xc0\\x14\\xc0\\n\\x009\\x008\\x007\\x006\\x00\\x88\\x00\\x87\\x00\\x86\\x00\\x85\\xc0\\x19\\x00:\\x00\\x89\\xc0\\x0f\\xc0\\x05\\x005\\x00\\x84\\xc0\\x13\\xc0\\t\\x003\\x002\\x00']\n",
      "Bad pipe message: %s [b'0\\x00\\x9a\\x00\\x99\\x00\\x98\\x00\\x97\\x00E\\x00D\\x00C\\x00B\\xc0\\x18\\x004\\x00\\x9b\\x00F\\xc0\\x0e\\xc0\\x04\\x00/\\x00\\x96\\x00A\\x00\\x07\\xc0\\x11\\xc0\\x07\\xc0\\x16\\x00\\x18\\xc0\\x0c\\xc0']\n",
      "Bad pipe message: %s [b'\\x05']\n",
      "Bad pipe message: %s [b\"k\\xbf\\xc5e\\x0f\\x8f\\x96\\xde\\xebY\\xd8\\xcc\\xd1\\x98\\xff\\x8a\\x0cP\\x00\\x00\\x86\\xc00\\xc0,\\xc0(\\xc0$\\xc0\\x14\\xc0\\n\\x00\\xa5\\x00\\xa3\\x00\\xa1\\x00\\x9f\\x00k\\x00j\\x00i\\x00h\\x009\\x008\\x007\\x006\\xc02\\xc0.\\xc0*\\xc0&\\xc0\\x0f\\xc0\\x05\\x00\\x9d\\x00=\\x005\\xc0/\\xc0+\\xc0'\\xc0#\\xc0\\x13\\xc0\\t\\x00\\xa4\\x00\\xa2\\x00\\xa0\\x00\\x9e\\x00g\\x00@\\x00?\\x00>\\x003\\x002\\x001\\x000\\xc01\\xc0-\\xc0)\\xc0%\\xc0\\x0e\\xc0\\x04\\x00\\x9c\\x00<\\x00/\\x00\\x9a\\x00\\x99\\x00\\x98\\x00\\x97\\x00\\x96\\x00\"]\n",
      "Bad pipe message: %s [b'\\x11\\xc0\\x07\\xc0\\x0c\\xc0']\n",
      "Bad pipe message: %s [b'\\x05']\n",
      "Bad pipe message: %s [b'\\x0fx\\xda\\xf4\\xbel@D\\xecTC\\xfe\\x89\\x06;\\xa3\\xf2\\xeb\\x00\\x00\\xf4\\xc00\\xc0,\\xc0(\\xc0$\\xc0\\x14\\xc0\\n\\x00\\xa5\\x00\\xa3\\x00\\xa1\\x00\\x9f\\x00k\\x00j\\x00i\\x00h\\x009\\x008\\x007']\n"
     ]
    }
   ],
   "source": [
    "# import shutil\n",
    "# shutil.copy('train_5folds_az_job.py', script_folder)\n",
    "# shutil.copy('i3d.py', script_folder)\n",
    "# shutil.copy('cyto_loader_local.py', script_folder)\n",
    "# shutil.copytree('data/train_test_folds', os.path.join(script_folder, 'train_test_folds'))\n",
    "# # shutil.copy('img-classification-part1-training.ipynb', script_folder)"
   ]
  },
  {
   "cell_type": "markdown",
   "metadata": {},
   "source": [
    "### Configure the training job\n",
    "\n",
    "Create a ScriptRunConfig object to specify the configuration details of your training job, including your training script, environment to use, and the compute target to run on. Configure the ScriptRunConfig by specifying:\n",
    "\n",
    "* The directory that contains your scripts. All the files in this directory are uploaded into the cluster nodes for execution. \n",
    "* The compute target.  In this case you will use the AmlCompute you created\n",
    "* The training script name, train.py\n",
    "* An environment that contains the libraries needed to run the script\n",
    "* Arguments required from the training script. \n",
    "\n",
    "In this tutorial, the target is AmlCompute. All files in the script folder are uploaded into the cluster nodes for execution. The data_folder is set to use the dataset.\n",
    "\n",
    "First, create the environment that contains: the scikit-learn library, azureml-dataset-runtime required for accessing the dataset, and azureml-defaults which contains the dependencies for logging metrics. The azureml-defaults also contains the dependencies required for deploying the model as a web service later in the part 2 of the tutorial.\n",
    "\n",
    "Once the environment is defined, register it with the Workspace to re-use it in part 2 of the tutorial."
   ]
  },
  {
   "cell_type": "code",
   "execution_count": 19,
   "metadata": {},
   "outputs": [],
   "source": [
    "from azureml.core.environment import Environment\n",
    "from azureml.core.conda_dependencies import CondaDependencies\n",
    "\n",
    "envname = 'AzureML-ACPT-pytorch-1.13-py38-cuda11.7-gpu'\n",
    "env = Environment.get(ws, envname)\n",
    "\n",
    "# to install required packages\n",
    "# env = Environment('tutorial-env')\n",
    "# cd = CondaDependencies.create(pip_packages=['azureml-dataset-runtime[pandas,fuse]', 'azureml-defaults'], conda_packages = ['scikit-learn==0.22.1', 'numpy==1.23'])\n",
    "\n",
    "# env.python.conda_dependencies = cd\n",
    "\n",
    "# # Register environment to re-use later\n",
    "# env.register(workspace = ws)"
   ]
  },
  {
   "cell_type": "markdown",
   "metadata": {},
   "source": [
    "Then, create the ScriptRunConfig by specifying the training script, compute target and environment."
   ]
  },
  {
   "cell_type": "code",
   "execution_count": 20,
   "metadata": {
    "tags": [
     "configure estimator"
    ]
   },
   "outputs": [],
   "source": [
    "from azureml.core import ScriptRunConfig\n",
    "\n",
    "args = ['--data-folder', dataset.as_mount()]\n",
    "\n",
    "src = ScriptRunConfig(source_directory=os.getcwd(),\n",
    "                      script='train_5folds_az_job.py', \n",
    "                      arguments=args,\n",
    "                      compute_target=compute_target,\n",
    "                      environment=env)"
   ]
  },
  {
   "cell_type": "code",
   "execution_count": 21,
   "metadata": {},
   "outputs": [
    {
     "data": {
      "text/plain": [
       "'/mnt/batch/tasks/shared/LS_root/mounts/clusters/cytox/code/workspace/cytotoxicity/cyto3try'"
      ]
     },
     "execution_count": 21,
     "metadata": {},
     "output_type": "execute_result"
    }
   ],
   "source": [
    "os.getcwd()"
   ]
  },
  {
   "cell_type": "markdown",
   "metadata": {},
   "source": [
    "### Submit the job to the cluster\n",
    "\n",
    "Run the experiment by submitting the ScriptRunConfig object. And you can navigate to Azure portal to monitor the run."
   ]
  },
  {
   "cell_type": "code",
   "execution_count": 22,
   "metadata": {
    "tags": [
     "remote run",
     "amlcompute",
     "scikit-learn"
    ]
   },
   "outputs": [
    {
     "data": {
      "text/html": [
       "<table style=\"width:100%\"><tr><th>Experiment</th><th>Id</th><th>Type</th><th>Status</th><th>Details Page</th><th>Docs Page</th></tr><tr><td>cyto3try</td><td>cyto3try_1715288445_7c7fd54a</td><td>azureml.scriptrun</td><td>Starting</td><td><a href=\"https://ml.azure.com/runs/cyto3try_1715288445_7c7fd54a?wsid=/subscriptions/25130c3f-778b-4637-bfb8-3b1b885b45e7/resourcegroups/rg-silo-dev-003/workspaces/aml-silo-dev-003&amp;tid=423d823d-bd94-4a87-b831-357bda79da31\" target=\"_blank\" rel=\"noopener\">Link to Azure Machine Learning studio</a></td><td><a href=\"https://docs.microsoft.com/en-us/python/api/azureml-core/azureml.core.script_run.ScriptRun?view=azure-ml-py\" target=\"_blank\" rel=\"noopener\">Link to Documentation</a></td></tr></table>"
      ],
      "text/plain": [
       "Run(Experiment: cyto3try,\n",
       "Id: cyto3try_1715288445_7c7fd54a,\n",
       "Type: azureml.scriptrun,\n",
       "Status: Starting)"
      ]
     },
     "execution_count": 22,
     "metadata": {},
     "output_type": "execute_result"
    }
   ],
   "source": [
    "run = exp.submit(config=src)\n",
    "run"
   ]
  },
  {
   "cell_type": "markdown",
   "metadata": {},
   "source": [
    "Since the call is asynchronous, it returns a **Preparing** or **Running** state as soon as the job is started.\n",
    "\n",
    "## Monitor a remote run\n",
    "\n",
    "In total, the first run takes **approximately 10 minutes**. But for subsequent runs, as long as the dependencies in the Azure ML environment don't change, the same image is reused and hence the container start up time is much faster.\n",
    "\n",
    "Here is what's happening while you wait:\n",
    "\n",
    "- **Image creation**: A Docker image is created matching the Python environment specified by the Azure ML environment. The image is built and stored in the ACR (Azure Container Registry) associated with your workspace. Image creation and uploading takes **about 5 minutes**. \n",
    "\n",
    "  This stage happens once for each Python environment since the container is cached for subsequent runs.  During image creation, logs are streamed to the run history. You can monitor the image creation progress using these logs.\n",
    "\n",
    "- **Scaling**: If the remote cluster requires more nodes to execute the run than currently available, additional nodes are added automatically. Scaling typically takes **about 5 minutes.**\n",
    "\n",
    "- **Running**: In this stage, the necessary scripts and files are sent to the compute target, then data stores are mounted/copied, then the entry_script is run. While the job is running, stdout and the files in the ./logs directory are streamed to the run history. You can monitor the run's progress using these logs.\n",
    "\n",
    "- **Post-Processing**: The ./outputs directory of the run is copied over to the run history in your workspace so you can access these results.\n",
    "\n",
    "\n",
    "You can check the progress of a running job in multiple ways. This tutorial uses a Jupyter widget as well as a `wait_for_completion` method. \n",
    "\n",
    "### Jupyter widget\n",
    "\n",
    "Watch the progress of the run with a Jupyter widget.  Like the run submission, the widget is asynchronous and provides live updates every 10-15 seconds until the job completes."
   ]
  },
  {
   "cell_type": "code",
   "execution_count": 23,
   "metadata": {
    "tags": [
     "use notebook widget"
    ]
   },
   "outputs": [
    {
     "data": {
      "application/vnd.jupyter.widget-view+json": {
       "model_id": "fe0a72d7b70b4490bd7132cb835a4872",
       "version_major": 2,
       "version_minor": 0
      },
      "text/plain": [
       "_UserRunWidget(widget_settings={'childWidgetDisplay': 'popup', 'send_telemetry': False, 'log_level': 'INFO', '…"
      ]
     },
     "metadata": {},
     "output_type": "display_data"
    },
    {
     "data": {
      "application/aml.mini.widget.v1": "{\"loading\": true}"
     },
     "metadata": {},
     "output_type": "display_data"
    }
   ],
   "source": [
    "from azureml.widgets import RunDetails\n",
    "RunDetails(run).show()"
   ]
  },
  {
   "cell_type": "markdown",
   "metadata": {},
   "source": [
    "By the way, if you need to cancel a run, you can follow [these instructions](https://aka.ms/aml-docs-cancel-run)."
   ]
  },
  {
   "cell_type": "markdown",
   "metadata": {},
   "source": [
    "### Get log results upon completion\n",
    "\n",
    "Model training happens in the background. You can use `wait_for_completion` to block and wait until the model has completed training before running more code. "
   ]
  },
  {
   "cell_type": "code",
   "execution_count": 24,
   "metadata": {
    "tags": [
     "remote run",
     "amlcompute",
     "scikit-learn"
    ]
   },
   "outputs": [
    {
     "name": "stdout",
     "output_type": "stream",
     "text": [
      "RunId: cyto3try_1715288445_7c7fd54a\n",
      "Web View: https://ml.azure.com/runs/cyto3try_1715288445_7c7fd54a?wsid=/subscriptions/25130c3f-778b-4637-bfb8-3b1b885b45e7/resourcegroups/rg-silo-dev-003/workspaces/aml-silo-dev-003&tid=423d823d-bd94-4a87-b831-357bda79da31\n",
      "\n",
      "Streaming user_logs/std_log.txt\n",
      "===============================\n",
      "\n",
      "Cleaning up all outstanding Run operations, waiting 300.0 seconds\n",
      "1 items cleaning up...\n",
      "Cleanup took 0.08891558647155762 seconds\n",
      "Traceback (most recent call last):\n",
      "  File \"train_5folds_az_job.py\", line 12, in <module>\n",
      "    from cyto_loader_local import cytoDataset, Normaliztion, ToTensor, Rescale, RandomHorizontalFlip, RandomCrop, CenterCrop #, worker_init_fn #, RandomHorizontalFlip2CHNL, Rescale2CHNL, RandomCrop2CHNL,Rescale2CHNL, CenterCrop2CHNL\n",
      "  File \"/mnt/azureml/cr/j/e368e02bb7da4e269913c81435d99599/exe/wd/cyto_loader_local.py\", line 11, in <module>\n",
      "    import cv2\n",
      "ModuleNotFoundError: No module named 'cv2'\n",
      "\n",
      "\n",
      "Execution Summary\n",
      "=================\n",
      "RunId: cyto3try_1715288445_7c7fd54a\n",
      "Web View: https://ml.azure.com/runs/cyto3try_1715288445_7c7fd54a?wsid=/subscriptions/25130c3f-778b-4637-bfb8-3b1b885b45e7/resourcegroups/rg-silo-dev-003/workspaces/aml-silo-dev-003&tid=423d823d-bd94-4a87-b831-357bda79da31\n",
      "\n",
      "Warnings:\n",
      "Execution failed. User process 'python' exited with status code 1. Please check log file 'user_logs/std_log.txt' for error details. Error: Traceback (most recent call last):\n",
      "  File \"train_5folds_az_job.py\", line 12, in <module>\n",
      "    from cyto_loader_local import cytoDataset, Normaliztion, ToTensor, Rescale, RandomHorizontalFlip, RandomCrop, CenterCrop #, worker_init_fn #, RandomHorizontalFlip2CHNL, Rescale2CHNL, RandomCrop2CHNL,Rescale2CHNL, CenterCrop2CHNL\n",
      "  File \"/mnt/azureml/cr/j/e368e02bb7da4\n",
      "\n"
     ]
    },
    {
     "ename": "ActivityFailedException",
     "evalue": "ActivityFailedException:\n\tMessage: Activity Failed:\n{\n    \"error\": {\n        \"code\": \"UserError\",\n        \"message\": \"Execution failed. User process 'python' exited with status code 1. Please check log file 'user_logs/std_log.txt' for error details. Error: Traceback (most recent call last):\\n  File \\\"train_5folds_az_job.py\\\", line 12, in <module>\\n    from cyto_loader_local import cytoDataset, Normaliztion, ToTensor, Rescale, RandomHorizontalFlip, RandomCrop, CenterCrop #, worker_init_fn #, RandomHorizontalFlip2CHNL, Rescale2CHNL, RandomCrop2CHNL,Rescale2CHNL, CenterCrop2CHNL\\n  File \\\"/mnt/azureml/cr/j/e368e02bb7da4e269913c81435d99599/exe/wd/cyto_loader_local.py\\\", line 11, in <module>\\n    import cv2\\nModuleNotFoundError: No module named 'cv2'\\n\\n\",\n        \"messageParameters\": {},\n        \"details\": []\n    },\n    \"time\": \"0001-01-01T00:00:00.000Z\",\n    \"componentName\": \"CommonRuntime\"\n}\n\tInnerException None\n\tErrorResponse \n{\n    \"error\": {\n        \"message\": \"Activity Failed:\\n{\\n    \\\"error\\\": {\\n        \\\"code\\\": \\\"UserError\\\",\\n        \\\"message\\\": \\\"Execution failed. User process 'python' exited with status code 1. Please check log file 'user_logs/std_log.txt' for error details. Error: Traceback (most recent call last):\\\\n  File \\\\\\\"train_5folds_az_job.py\\\\\\\", line 12, in <module>\\\\n    from cyto_loader_local import cytoDataset, Normaliztion, ToTensor, Rescale, RandomHorizontalFlip, RandomCrop, CenterCrop #, worker_init_fn #, RandomHorizontalFlip2CHNL, Rescale2CHNL, RandomCrop2CHNL,Rescale2CHNL, CenterCrop2CHNL\\\\n  File \\\\\\\"/mnt/azureml/cr/j/e368e02bb7da4e269913c81435d99599/exe/wd/cyto_loader_local.py\\\\\\\", line 11, in <module>\\\\n    import cv2\\\\nModuleNotFoundError: No module named 'cv2'\\\\n\\\\n\\\",\\n        \\\"messageParameters\\\": {},\\n        \\\"details\\\": []\\n    },\\n    \\\"time\\\": \\\"0001-01-01T00:00:00.000Z\\\",\\n    \\\"componentName\\\": \\\"CommonRuntime\\\"\\n}\"\n    }\n}",
     "output_type": "error",
     "traceback": [
      "\u001b[0;31m---------------------------------------------------------------------------\u001b[0m",
      "\u001b[0;31mActivityFailedException\u001b[0m                   Traceback (most recent call last)",
      "Cell \u001b[0;32mIn[24], line 2\u001b[0m\n\u001b[1;32m      1\u001b[0m \u001b[38;5;66;03m# specify show_output to True for a verbose log\u001b[39;00m\n\u001b[0;32m----> 2\u001b[0m \u001b[43mrun\u001b[49m\u001b[38;5;241;43m.\u001b[39;49m\u001b[43mwait_for_completion\u001b[49m\u001b[43m(\u001b[49m\u001b[43mshow_output\u001b[49m\u001b[38;5;241;43m=\u001b[39;49m\u001b[38;5;28;43;01mTrue\u001b[39;49;00m\u001b[43m)\u001b[49m \n",
      "File \u001b[0;32m/anaconda/envs/azureml_py38_PT_TF/lib/python3.8/site-packages/azureml/core/run.py:849\u001b[0m, in \u001b[0;36mRun.wait_for_completion\u001b[0;34m(self, show_output, wait_post_processing, raise_on_error)\u001b[0m\n\u001b[1;32m    847\u001b[0m \u001b[38;5;28;01mif\u001b[39;00m show_output:\n\u001b[1;32m    848\u001b[0m     \u001b[38;5;28;01mtry\u001b[39;00m:\n\u001b[0;32m--> 849\u001b[0m         \u001b[38;5;28;43mself\u001b[39;49m\u001b[38;5;241;43m.\u001b[39;49m\u001b[43m_stream_run_output\u001b[49m\u001b[43m(\u001b[49m\n\u001b[1;32m    850\u001b[0m \u001b[43m            \u001b[49m\u001b[43mfile_handle\u001b[49m\u001b[38;5;241;43m=\u001b[39;49m\u001b[43msys\u001b[49m\u001b[38;5;241;43m.\u001b[39;49m\u001b[43mstdout\u001b[49m\u001b[43m,\u001b[49m\n\u001b[1;32m    851\u001b[0m \u001b[43m            \u001b[49m\u001b[43mwait_post_processing\u001b[49m\u001b[38;5;241;43m=\u001b[39;49m\u001b[43mwait_post_processing\u001b[49m\u001b[43m,\u001b[49m\n\u001b[1;32m    852\u001b[0m \u001b[43m            \u001b[49m\u001b[43mraise_on_error\u001b[49m\u001b[38;5;241;43m=\u001b[39;49m\u001b[43mraise_on_error\u001b[49m\u001b[43m)\u001b[49m\n\u001b[1;32m    853\u001b[0m         \u001b[38;5;28;01mreturn\u001b[39;00m \u001b[38;5;28mself\u001b[39m\u001b[38;5;241m.\u001b[39mget_details()\n\u001b[1;32m    854\u001b[0m     \u001b[38;5;28;01mexcept\u001b[39;00m \u001b[38;5;167;01mKeyboardInterrupt\u001b[39;00m:\n",
      "File \u001b[0;32m/anaconda/envs/azureml_py38_PT_TF/lib/python3.8/site-packages/azureml/core/run.py:1102\u001b[0m, in \u001b[0;36mRun._stream_run_output\u001b[0;34m(self, file_handle, wait_post_processing, raise_on_error)\u001b[0m\n\u001b[1;32m   1100\u001b[0m         file_handle\u001b[38;5;241m.\u001b[39mwrite(\u001b[38;5;124m\"\u001b[39m\u001b[38;5;130;01m\\n\u001b[39;00m\u001b[38;5;124m\"\u001b[39m)\n\u001b[1;32m   1101\u001b[0m     \u001b[38;5;28;01melse\u001b[39;00m:\n\u001b[0;32m-> 1102\u001b[0m         \u001b[38;5;28;01mraise\u001b[39;00m ActivityFailedException(error_details\u001b[38;5;241m=\u001b[39mjson\u001b[38;5;241m.\u001b[39mdumps(error, indent\u001b[38;5;241m=\u001b[39m\u001b[38;5;241m4\u001b[39m))\n\u001b[1;32m   1104\u001b[0m file_handle\u001b[38;5;241m.\u001b[39mwrite(\u001b[38;5;124m\"\u001b[39m\u001b[38;5;130;01m\\n\u001b[39;00m\u001b[38;5;124m\"\u001b[39m)\n\u001b[1;32m   1105\u001b[0m file_handle\u001b[38;5;241m.\u001b[39mflush()\n",
      "\u001b[0;31mActivityFailedException\u001b[0m: ActivityFailedException:\n\tMessage: Activity Failed:\n{\n    \"error\": {\n        \"code\": \"UserError\",\n        \"message\": \"Execution failed. User process 'python' exited with status code 1. Please check log file 'user_logs/std_log.txt' for error details. Error: Traceback (most recent call last):\\n  File \\\"train_5folds_az_job.py\\\", line 12, in <module>\\n    from cyto_loader_local import cytoDataset, Normaliztion, ToTensor, Rescale, RandomHorizontalFlip, RandomCrop, CenterCrop #, worker_init_fn #, RandomHorizontalFlip2CHNL, Rescale2CHNL, RandomCrop2CHNL,Rescale2CHNL, CenterCrop2CHNL\\n  File \\\"/mnt/azureml/cr/j/e368e02bb7da4e269913c81435d99599/exe/wd/cyto_loader_local.py\\\", line 11, in <module>\\n    import cv2\\nModuleNotFoundError: No module named 'cv2'\\n\\n\",\n        \"messageParameters\": {},\n        \"details\": []\n    },\n    \"time\": \"0001-01-01T00:00:00.000Z\",\n    \"componentName\": \"CommonRuntime\"\n}\n\tInnerException None\n\tErrorResponse \n{\n    \"error\": {\n        \"message\": \"Activity Failed:\\n{\\n    \\\"error\\\": {\\n        \\\"code\\\": \\\"UserError\\\",\\n        \\\"message\\\": \\\"Execution failed. User process 'python' exited with status code 1. Please check log file 'user_logs/std_log.txt' for error details. Error: Traceback (most recent call last):\\\\n  File \\\\\\\"train_5folds_az_job.py\\\\\\\", line 12, in <module>\\\\n    from cyto_loader_local import cytoDataset, Normaliztion, ToTensor, Rescale, RandomHorizontalFlip, RandomCrop, CenterCrop #, worker_init_fn #, RandomHorizontalFlip2CHNL, Rescale2CHNL, RandomCrop2CHNL,Rescale2CHNL, CenterCrop2CHNL\\\\n  File \\\\\\\"/mnt/azureml/cr/j/e368e02bb7da4e269913c81435d99599/exe/wd/cyto_loader_local.py\\\\\\\", line 11, in <module>\\\\n    import cv2\\\\nModuleNotFoundError: No module named 'cv2'\\\\n\\\\n\\\",\\n        \\\"messageParameters\\\": {},\\n        \\\"details\\\": []\\n    },\\n    \\\"time\\\": \\\"0001-01-01T00:00:00.000Z\\\",\\n    \\\"componentName\\\": \\\"CommonRuntime\\\"\\n}\"\n    }\n}"
     ]
    }
   ],
   "source": [
    "# specify show_output to True for a verbose log\n",
    "run.wait_for_completion(show_output=True) "
   ]
  },
  {
   "cell_type": "markdown",
   "metadata": {},
   "source": [
    "### Display run results\n",
    "\n",
    "You now have a model trained on a remote cluster.  Retrieve all the metrics logged during the run, including the accuracy of the model:"
   ]
  },
  {
   "cell_type": "code",
   "execution_count": null,
   "metadata": {
    "tags": [
     "get metrics"
    ]
   },
   "outputs": [],
   "source": [
    "print(run.get_metrics())"
   ]
  },
  {
   "cell_type": "markdown",
   "metadata": {},
   "source": [
    "In the next tutorial you will explore this model in more detail.\n",
    "\n",
    "## Register model\n",
    "\n",
    "The last step in the training script wrote the file `outputs/sklearn_mnist_model.pkl` in a directory named `outputs` in the VM of the cluster where the job is executed. `outputs` is a special directory in that all content in this  directory is automatically uploaded to your workspace.  This content appears in the run record in the experiment under your workspace. Hence, the model file is now also available in your workspace.\n",
    "\n",
    "You can see files associated with that run."
   ]
  },
  {
   "cell_type": "code",
   "execution_count": null,
   "metadata": {
    "tags": [
     "query history"
    ]
   },
   "outputs": [],
   "source": [
    "print(run.get_file_names())"
   ]
  },
  {
   "cell_type": "markdown",
   "metadata": {},
   "source": [
    "Register the model in the workspace so that you (or other collaborators) can later query, examine, and deploy this model."
   ]
  },
  {
   "cell_type": "code",
   "execution_count": null,
   "metadata": {
    "tags": [
     "register model from history"
    ]
   },
   "outputs": [],
   "source": [
    "# register model \n",
    "model = run.register_model(model_name='3d_cytox', model_path='outputs/3d_cytox.pkl')\n",
    "print(model.name, model.id, model.version, sep='\\t')"
   ]
  }
 ],
 "metadata": {
  "authors": [
   {
    "name": "maxluk"
   }
  ],
  "kernelspec": {
   "display_name": "azureml_py38_PT_TF",
   "language": "python",
   "name": "python3"
  },
  "language_info": {
   "codemirror_mode": {
    "name": "ipython",
    "version": 3
   },
   "file_extension": ".py",
   "mimetype": "text/x-python",
   "name": "python",
   "nbconvert_exporter": "python",
   "pygments_lexer": "ipython3",
   "version": "3.8.5"
  },
  "msauthor": "roastala",
  "network_required": false
 },
 "nbformat": 4,
 "nbformat_minor": 4
}
