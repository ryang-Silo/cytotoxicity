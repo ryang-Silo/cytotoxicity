{
 "cells": [
  {
   "cell_type": "code",
   "execution_count": 1,
   "metadata": {},
   "outputs": [],
   "source": [
    "from azureml.core import Workspace, Datastore, Dataset\n",
    "import os\n"
   ]
  },
  {
   "cell_type": "code",
   "execution_count": 5,
   "metadata": {},
   "outputs": [
    {
     "ename": "UserErrorException",
     "evalue": "UserErrorException:\n\tMessage: (UserError) Could not find datastore: compounds-images.\n\tInnerException None\n\tErrorResponse \n{\n    \"error\": {\n        \"code\": \"UserError\",\n        \"message\": \"(UserError) Could not find datastore: compounds-images.\"\n    }\n}",
     "output_type": "error",
     "traceback": [
      "\u001b[0;31m---------------------------------------------------------------------------\u001b[0m",
      "\u001b[0;31mErrorResponseException\u001b[0m                    Traceback (most recent call last)",
      "File \u001b[0;32m/anaconda/envs/azureml_py310_sdkv2/lib/python3.10/site-packages/azureml/data/_exception_handler.py:16\u001b[0m, in \u001b[0;36m_handle_error_response_exception.<locals>.decorated\u001b[0;34m(*args, **kwargs)\u001b[0m\n\u001b[1;32m     15\u001b[0m \u001b[39mtry\u001b[39;00m:\n\u001b[0;32m---> 16\u001b[0m     \u001b[39mreturn\u001b[39;00m f(\u001b[39m*\u001b[39;49margs, \u001b[39m*\u001b[39;49m\u001b[39m*\u001b[39;49mkwargs)\n\u001b[1;32m     17\u001b[0m \u001b[39mexcept\u001b[39;00m ErrorResponseException \u001b[39mas\u001b[39;00m e:\n",
      "File \u001b[0;32m/anaconda/envs/azureml_py310_sdkv2/lib/python3.10/site-packages/azureml/data/datastore_client.py:718\u001b[0m, in \u001b[0;36m_DatastoreClient._get\u001b[0;34m(ws, name, auth, host)\u001b[0m\n\u001b[1;32m    717\u001b[0m client \u001b[39m=\u001b[39m _DatastoreClient\u001b[39m.\u001b[39m_get_client(ws, auth, host)\n\u001b[0;32m--> 718\u001b[0m datastore \u001b[39m=\u001b[39m client\u001b[39m.\u001b[39;49mdata_stores\u001b[39m.\u001b[39;49mget(subscription_id\u001b[39m=\u001b[39;49mws\u001b[39m.\u001b[39;49m_subscription_id, resource_group_name\u001b[39m=\u001b[39;49mws\u001b[39m.\u001b[39;49m_resource_group,\n\u001b[1;32m    719\u001b[0m                                    workspace_name\u001b[39m=\u001b[39;49mws\u001b[39m.\u001b[39;49m_workspace_name, name\u001b[39m=\u001b[39;49mname,\n\u001b[1;32m    720\u001b[0m                                    custom_headers\u001b[39m=\u001b[39;49m_DatastoreClient\u001b[39m.\u001b[39;49m_custom_headers)\n\u001b[1;32m    722\u001b[0m module_logger\u001b[39m.\u001b[39mdebug(\u001b[39m\"\u001b[39m\u001b[39mReceived DTO from the datastore service\u001b[39m\u001b[39m\"\u001b[39m)\n",
      "File \u001b[0;32m/anaconda/envs/azureml_py310_sdkv2/lib/python3.10/site-packages/azureml/_restclient/operations/data_stores_operations.py:289\u001b[0m, in \u001b[0;36mDataStoresOperations.get\u001b[0;34m(self, subscription_id, resource_group_name, workspace_name, name, custom_headers, raw, **operation_config)\u001b[0m\n\u001b[1;32m    288\u001b[0m \u001b[39mif\u001b[39;00m response\u001b[39m.\u001b[39mstatus_code \u001b[39mnot\u001b[39;00m \u001b[39min\u001b[39;00m [\u001b[39m200\u001b[39m]:\n\u001b[0;32m--> 289\u001b[0m     \u001b[39mraise\u001b[39;00m models\u001b[39m.\u001b[39mErrorResponseException(\u001b[39mself\u001b[39m\u001b[39m.\u001b[39m_deserialize, response)\n\u001b[1;32m    291\u001b[0m deserialized \u001b[39m=\u001b[39m \u001b[39mNone\u001b[39;00m\n",
      "\u001b[0;31mErrorResponseException\u001b[0m: (UserError) Could not find datastore: compounds-images.",
      "\nDuring handling of the above exception, another exception occurred:\n",
      "\u001b[0;31mUserErrorException\u001b[0m                        Traceback (most recent call last)",
      "Cell \u001b[0;32mIn[5], line 3\u001b[0m\n\u001b[1;32m      1\u001b[0m ws \u001b[39m=\u001b[39m Workspace\u001b[39m.\u001b[39mfrom_config()\n\u001b[1;32m      2\u001b[0m \u001b[39m# 或者 https://cytotoxstorageaccount.blob.core.windows.net/compounds-images\u001b[39;00m\n\u001b[0;32m----> 3\u001b[0m datastore \u001b[39m=\u001b[39m Datastore\u001b[39m.\u001b[39;49mget(ws, datastore_name\u001b[39m=\u001b[39;49m\u001b[39m'\u001b[39;49m\u001b[39mcompounds-images\u001b[39;49m\u001b[39m'\u001b[39;49m)\n",
      "File \u001b[0;32m/anaconda/envs/azureml_py310_sdkv2/lib/python3.10/site-packages/azureml/core/datastore.py:144\u001b[0m, in \u001b[0;36mDatastore.get\u001b[0;34m(workspace, datastore_name)\u001b[0m\n\u001b[1;32m    126\u001b[0m \u001b[39m@staticmethod\u001b[39m\n\u001b[1;32m    127\u001b[0m \u001b[39mdef\u001b[39;00m \u001b[39mget\u001b[39m(workspace, datastore_name):\n\u001b[1;32m    128\u001b[0m \u001b[39m    \u001b[39m\u001b[39m\"\"\"Get a datastore by name. This is same as calling the constructor.\u001b[39;00m\n\u001b[1;32m    129\u001b[0m \n\u001b[1;32m    130\u001b[0m \u001b[39m    :param workspace: The workspace.\u001b[39;00m\n\u001b[0;32m   (...)\u001b[0m\n\u001b[1;32m    142\u001b[0m \u001b[39m            or azureml.data.dbfs_datastore.DBFSDatastore\u001b[39;00m\n\u001b[1;32m    143\u001b[0m \u001b[39m    \"\"\"\u001b[39;00m\n\u001b[0;32m--> 144\u001b[0m     \u001b[39mreturn\u001b[39;00m Datastore\u001b[39m.\u001b[39;49m_client()\u001b[39m.\u001b[39;49mget(workspace, datastore_name)\n",
      "File \u001b[0;32m/anaconda/envs/azureml_py310_sdkv2/lib/python3.10/site-packages/azureml/data/datastore_client.py:70\u001b[0m, in \u001b[0;36m_DatastoreClient.get\u001b[0;34m(workspace, datastore_name)\u001b[0m\n\u001b[1;32m     59\u001b[0m \u001b[39m@staticmethod\u001b[39m\n\u001b[1;32m     60\u001b[0m \u001b[39mdef\u001b[39;00m \u001b[39mget\u001b[39m(workspace, datastore_name):\n\u001b[1;32m     61\u001b[0m \u001b[39m    \u001b[39m\u001b[39m\"\"\"Get a datastore by name.\u001b[39;00m\n\u001b[1;32m     62\u001b[0m \n\u001b[1;32m     63\u001b[0m \u001b[39m    :param workspace: The workspace.\u001b[39;00m\n\u001b[0;32m   (...)\u001b[0m\n\u001b[1;32m     68\u001b[0m \u001b[39m    :rtype: typing.Union[AzureFileDatastore, AzureBlobDatastore]\u001b[39;00m\n\u001b[1;32m     69\u001b[0m \u001b[39m    \"\"\"\u001b[39;00m\n\u001b[0;32m---> 70\u001b[0m     \u001b[39mreturn\u001b[39;00m _DatastoreClient\u001b[39m.\u001b[39;49m_get(workspace, datastore_name)\n",
      "File \u001b[0;32m/anaconda/envs/azureml_py310_sdkv2/lib/python3.10/site-packages/azureml/data/_exception_handler.py:19\u001b[0m, in \u001b[0;36m_handle_error_response_exception.<locals>.decorated\u001b[0;34m(*args, **kwargs)\u001b[0m\n\u001b[1;32m     17\u001b[0m \u001b[39mexcept\u001b[39;00m ErrorResponseException \u001b[39mas\u001b[39;00m e:\n\u001b[1;32m     18\u001b[0m     \u001b[39mif\u001b[39;00m e\u001b[39m.\u001b[39mresponse\u001b[39m.\u001b[39mstatus_code \u001b[39m<\u001b[39m \u001b[39m500\u001b[39m \u001b[39mand\u001b[39;00m \u001b[39m\"\u001b[39m\u001b[39m(UserError)\u001b[39m\u001b[39m\"\u001b[39m \u001b[39min\u001b[39;00m \u001b[39mstr\u001b[39m(e):\n\u001b[0;32m---> 19\u001b[0m         \u001b[39mraise\u001b[39;00m UserErrorException(\u001b[39mstr\u001b[39m(e))\n\u001b[1;32m     20\u001b[0m     \u001b[39mraise\u001b[39;00m e\n",
      "\u001b[0;31mUserErrorException\u001b[0m: UserErrorException:\n\tMessage: (UserError) Could not find datastore: compounds-images.\n\tInnerException None\n\tErrorResponse \n{\n    \"error\": {\n        \"code\": \"UserError\",\n        \"message\": \"(UserError) Could not find datastore: compounds-images.\"\n    }\n}"
     ]
    }
   ],
   "source": [
    "ws = Workspace.from_config()\n",
    "# 或者 https://cytotoxstorageaccount.blob.core.windows.net/compounds-images\n",
    "datastore = Datastore.get(ws, datastore_name='compounds-images')\n"
   ]
  },
  {
   "cell_type": "code",
   "execution_count": 3,
   "metadata": {},
   "outputs": [
    {
     "data": {
      "text/plain": [
       "{\n",
       "  \"name\": \"workspaceblobstore\",\n",
       "  \"container_name\": \"azureml-blobstore-82432d5c-ddfd-44db-a5f4-9ad275693506\",\n",
       "  \"account_name\": \"cytotoxstorageaccount\",\n",
       "  \"protocol\": \"https\",\n",
       "  \"endpoint\": \"core.windows.net\"\n",
       "}"
      ]
     },
     "execution_count": 3,
     "metadata": {},
     "output_type": "execute_result"
    }
   ],
   "source": [
    "datastore"
   ]
  },
  {
   "cell_type": "code",
   "execution_count": 9,
   "metadata": {},
   "outputs": [
    {
     "data": {
      "text/plain": [
       "320"
      ]
     },
     "execution_count": 9,
     "metadata": {},
     "output_type": "execute_result"
    }
   ],
   "source": [
    "from PIL import Image\n",
    "from azureml.fsspec import AzureMachineLearningFileSystem\n",
    "fs = AzureMachineLearningFileSystem('azureml://subscriptions/25130c3f-778b-4637-bfb8-3b1b885b45e7/resourcegroups/rg-silo-dev-003/workspaces/aml-silo-dev-003/datastores/workspaceblobcompound/paths/ORM-0272079_230907GA24A0')\n",
    "\n",
    "len(fs.ls())"
   ]
  },
  {
   "cell_type": "code",
   "execution_count": null,
   "metadata": {},
   "outputs": [],
   "source": []
  }
 ],
 "metadata": {
  "kernelspec": {
   "display_name": "Python 3.10 - SDK v2",
   "language": "python",
   "name": "python310-sdkv2"
  },
  "language_info": {
   "codemirror_mode": {
    "name": "ipython",
    "version": 3
   },
   "file_extension": ".py",
   "mimetype": "text/x-python",
   "name": "python",
   "nbconvert_exporter": "python",
   "pygments_lexer": "ipython3",
   "version": "3.10.11"
  },
  "orig_nbformat": 4
 },
 "nbformat": 4,
 "nbformat_minor": 2
}
